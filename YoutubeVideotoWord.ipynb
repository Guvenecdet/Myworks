{
  "nbformat": 4,
  "nbformat_minor": 0,
  "metadata": {
    "colab": {
      "provenance": [],
      "gpuType": "T4",
      "mount_file_id": "1ga740BXxT4ubb0uz-jN70_gEXsnOW60P",
      "authorship_tag": "ABX9TyOB+rxf4d+6DwqYsoKie2vf",
      "include_colab_link": true
    },
    "kernelspec": {
      "name": "python3",
      "display_name": "Python 3"
    },
    "language_info": {
      "name": "python"
    },
    "accelerator": "GPU"
  },
  "cells": [
    {
      "cell_type": "markdown",
      "metadata": {
        "id": "view-in-github",
        "colab_type": "text"
      },
      "source": [
        "<a href=\"https://colab.research.google.com/github/Guvenecdet/Myworks/blob/main/YoutubeVideotoWord.ipynb\" target=\"_parent\"><img src=\"https://colab.research.google.com/assets/colab-badge.svg\" alt=\"Open In Colab\"/></a>"
      ]
    },
    {
      "cell_type": "code",
      "execution_count": null,
      "metadata": {
        "colab": {
          "base_uri": "https://localhost:8080/"
        },
        "id": "93x1OeZnIoae",
        "outputId": "6248ac13-c976-43e4-aece-6e8639a51ad3"
      },
      "outputs": [
        {
          "output_type": "stream",
          "name": "stdout",
          "text": [
            "Collecting pytube\n",
            "  Downloading pytube-15.0.0-py3-none-any.whl (57 kB)\n",
            "\u001b[2K     \u001b[90m━━━━━━━━━━━━━━━━━━━━━━━━━━━━━━━━━━━━━━━━\u001b[0m \u001b[32m57.6/57.6 kB\u001b[0m \u001b[31m1.2 MB/s\u001b[0m eta \u001b[36m0:00:00\u001b[0m\n",
            "\u001b[?25hCollecting python-docx\n",
            "  Downloading python_docx-1.1.0-py3-none-any.whl (239 kB)\n",
            "\u001b[2K     \u001b[90m━━━━━━━━━━━━━━━━━━━━━━━━━━━━━━━━━━━━━━━━\u001b[0m \u001b[32m239.6/239.6 kB\u001b[0m \u001b[31m7.8 MB/s\u001b[0m eta \u001b[36m0:00:00\u001b[0m\n",
            "\u001b[?25hRequirement already satisfied: lxml>=3.1.0 in /usr/local/lib/python3.10/dist-packages (from python-docx) (4.9.3)\n",
            "Requirement already satisfied: typing-extensions in /usr/local/lib/python3.10/dist-packages (from python-docx) (4.5.0)\n",
            "Installing collected packages: pytube, python-docx\n",
            "Successfully installed python-docx-1.1.0 pytube-15.0.0\n"
          ]
        }
      ],
      "source": [
        "!pip install pytube python-docx\n",
        "!pip install youtube-transcript-api\n"
      ]
    },
    {
      "cell_type": "code",
      "source": [
        "from youtube_transcript_api import YouTubeTranscriptApi\n",
        "from youtube_transcript_api.formatters import TextFormatter\n",
        "from docx import Document\n",
        "\n",
        "# Function to get and save YouTube video captions into a Word document\n",
        "def save_youtube_captions_to_word(video_url, file_name='CLIP2'):\n",
        "    try:\n",
        "        # Extract video ID from URL\n",
        "        video_id = video_url.split('watch?v=')[-1]\n",
        "\n",
        "        # Fetching the transcript\n",
        "        transcript = YouTubeTranscriptApi.get_transcript(video_id)\n",
        "\n",
        "        # Initialize text formatter\n",
        "        formatter = TextFormatter()\n",
        "        formatted_transcript = formatter.format_transcript(transcript)\n",
        "\n",
        "        # Initialize a Document\n",
        "        document = Document()\n",
        "        document.add_heading('Captions for YouTube Video', 0)\n",
        "\n",
        "        # Add the formatted transcript to the document\n",
        "        for line in formatted_transcript.split('\\n'):\n",
        "            document.add_paragraph(line)\n",
        "\n",
        "        # Save the document\n",
        "        document.save(f'{file_name}.docx')\n",
        "        print(f'Captions have been saved to {file_name}.docx')\n",
        "\n",
        "    except Exception as e:\n",
        "        print(f\"An error occurred: {e}\")\n",
        "\n",
        "# URL of the YouTube video\n",
        "video_url = 'https://www.youtube.com/watch?v=fQyHEXZB-nM&ab_channel=AleksaGordi%C4%87-TheAIEpiphany'\n",
        "\n",
        "# Call the function to save captions\n",
        "save_youtube_captions_to_word(video_url)\n"
      ],
      "metadata": {
        "colab": {
          "base_uri": "https://localhost:8080/"
        },
        "id": "qBPYUx2XJevz",
        "outputId": "ac9a749e-6628-47c6-b40e-b38422ea6ee2"
      },
      "execution_count": null,
      "outputs": [
        {
          "output_type": "stream",
          "name": "stdout",
          "text": [
            "Captions have been saved to CLIP2.docx\n"
          ]
        }
      ]
    }
  ]
}